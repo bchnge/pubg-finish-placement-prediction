{
 "cells": [
  {
   "cell_type": "code",
   "execution_count": 1,
   "metadata": {},
   "outputs": [],
   "source": [
    "import pandas as pd\n",
    "import numpy as np\n",
    "import seaborn"
   ]
  },
  {
   "cell_type": "code",
   "execution_count": 4,
   "metadata": {},
   "outputs": [],
   "source": [
    "%matplotlib inline"
   ]
  },
  {
   "cell_type": "code",
   "execution_count": 2,
   "metadata": {},
   "outputs": [],
   "source": [
    "df = pd.read_csv('../data/train.csv.zip')"
   ]
  },
  {
   "cell_type": "code",
   "execution_count": 8,
   "metadata": {},
   "outputs": [],
   "source": [
    "df_test = pd.read_csv('../data/test.csv.zip')"
   ]
  },
  {
   "cell_type": "code",
   "execution_count": 10,
   "metadata": {},
   "outputs": [
    {
     "data": {
      "text/plain": [
       "0"
      ]
     },
     "execution_count": 10,
     "metadata": {},
     "output_type": "execute_result"
    }
   ],
   "source": [
    "df_test.Id.isin(df.Id).sum()"
   ]
  },
  {
   "cell_type": "code",
   "execution_count": null,
   "metadata": {},
   "outputs": [],
   "source": []
  },
  {
   "cell_type": "code",
   "execution_count": 5,
   "metadata": {},
   "outputs": [
    {
     "data": {
      "text/html": [
       "<div>\n",
       "<style>\n",
       "    .dataframe thead tr:only-child th {\n",
       "        text-align: right;\n",
       "    }\n",
       "\n",
       "    .dataframe thead th {\n",
       "        text-align: left;\n",
       "    }\n",
       "\n",
       "    .dataframe tbody tr th {\n",
       "        vertical-align: top;\n",
       "    }\n",
       "</style>\n",
       "<table border=\"1\" class=\"dataframe\">\n",
       "  <thead>\n",
       "    <tr style=\"text-align: right;\">\n",
       "      <th></th>\n",
       "      <th>count</th>\n",
       "      <th>mean</th>\n",
       "      <th>std</th>\n",
       "      <th>min</th>\n",
       "      <th>25%</th>\n",
       "      <th>50%</th>\n",
       "      <th>75%</th>\n",
       "      <th>max</th>\n",
       "    </tr>\n",
       "  </thead>\n",
       "  <tbody>\n",
       "    <tr>\n",
       "      <th>Id</th>\n",
       "      <td>4357336.0</td>\n",
       "      <td>3.102678e+06</td>\n",
       "      <td>1.797477e+06</td>\n",
       "      <td>0.0</td>\n",
       "      <td>1.537746e+06</td>\n",
       "      <td>3.110606e+06</td>\n",
       "      <td>4.657295e+06</td>\n",
       "      <td>6224522.0</td>\n",
       "    </tr>\n",
       "    <tr>\n",
       "      <th>groupId</th>\n",
       "      <td>4357336.0</td>\n",
       "      <td>1.024777e+06</td>\n",
       "      <td>6.967197e+05</td>\n",
       "      <td>1.0</td>\n",
       "      <td>4.741378e+05</td>\n",
       "      <td>9.430320e+05</td>\n",
       "      <td>1.418544e+06</td>\n",
       "      <td>2700605.0</td>\n",
       "    </tr>\n",
       "    <tr>\n",
       "      <th>matchId</th>\n",
       "      <td>4357336.0</td>\n",
       "      <td>2.385539e+04</td>\n",
       "      <td>1.378227e+04</td>\n",
       "      <td>0.0</td>\n",
       "      <td>1.191400e+04</td>\n",
       "      <td>2.383700e+04</td>\n",
       "      <td>3.580100e+04</td>\n",
       "      <td>47733.0</td>\n",
       "    </tr>\n",
       "    <tr>\n",
       "      <th>assists</th>\n",
       "      <td>4357336.0</td>\n",
       "      <td>2.656320e-01</td>\n",
       "      <td>6.342160e-01</td>\n",
       "      <td>0.0</td>\n",
       "      <td>0.000000e+00</td>\n",
       "      <td>0.000000e+00</td>\n",
       "      <td>0.000000e+00</td>\n",
       "      <td>20.0</td>\n",
       "    </tr>\n",
       "    <tr>\n",
       "      <th>boosts</th>\n",
       "      <td>4357336.0</td>\n",
       "      <td>9.636856e-01</td>\n",
       "      <td>1.560643e+00</td>\n",
       "      <td>0.0</td>\n",
       "      <td>0.000000e+00</td>\n",
       "      <td>0.000000e+00</td>\n",
       "      <td>1.000000e+00</td>\n",
       "      <td>18.0</td>\n",
       "    </tr>\n",
       "    <tr>\n",
       "      <th>damageDealt</th>\n",
       "      <td>4357336.0</td>\n",
       "      <td>1.329033e+02</td>\n",
       "      <td>1.699439e+02</td>\n",
       "      <td>0.0</td>\n",
       "      <td>0.000000e+00</td>\n",
       "      <td>8.776000e+01</td>\n",
       "      <td>1.884000e+02</td>\n",
       "      <td>6384.0</td>\n",
       "    </tr>\n",
       "    <tr>\n",
       "      <th>DBNOs</th>\n",
       "      <td>4357336.0</td>\n",
       "      <td>6.901455e-01</td>\n",
       "      <td>1.191514e+00</td>\n",
       "      <td>0.0</td>\n",
       "      <td>0.000000e+00</td>\n",
       "      <td>0.000000e+00</td>\n",
       "      <td>1.000000e+00</td>\n",
       "      <td>63.0</td>\n",
       "    </tr>\n",
       "    <tr>\n",
       "      <th>headshotKills</th>\n",
       "      <td>4357336.0</td>\n",
       "      <td>2.385866e-01</td>\n",
       "      <td>6.103033e-01</td>\n",
       "      <td>0.0</td>\n",
       "      <td>0.000000e+00</td>\n",
       "      <td>0.000000e+00</td>\n",
       "      <td>0.000000e+00</td>\n",
       "      <td>26.0</td>\n",
       "    </tr>\n",
       "    <tr>\n",
       "      <th>heals</th>\n",
       "      <td>4357336.0</td>\n",
       "      <td>1.187169e+00</td>\n",
       "      <td>2.366389e+00</td>\n",
       "      <td>0.0</td>\n",
       "      <td>0.000000e+00</td>\n",
       "      <td>0.000000e+00</td>\n",
       "      <td>1.000000e+00</td>\n",
       "      <td>59.0</td>\n",
       "    </tr>\n",
       "    <tr>\n",
       "      <th>killPlace</th>\n",
       "      <td>4357336.0</td>\n",
       "      <td>4.703440e+01</td>\n",
       "      <td>2.732772e+01</td>\n",
       "      <td>1.0</td>\n",
       "      <td>2.300000e+01</td>\n",
       "      <td>4.700000e+01</td>\n",
       "      <td>7.000000e+01</td>\n",
       "      <td>100.0</td>\n",
       "    </tr>\n",
       "    <tr>\n",
       "      <th>killPoints</th>\n",
       "      <td>4357336.0</td>\n",
       "      <td>1.080898e+03</td>\n",
       "      <td>1.237119e+02</td>\n",
       "      <td>155.0</td>\n",
       "      <td>1.000000e+03</td>\n",
       "      <td>1.029000e+03</td>\n",
       "      <td>1.126000e+03</td>\n",
       "      <td>2047.0</td>\n",
       "    </tr>\n",
       "    <tr>\n",
       "      <th>kills</th>\n",
       "      <td>4357336.0</td>\n",
       "      <td>9.344958e-01</td>\n",
       "      <td>1.566192e+00</td>\n",
       "      <td>0.0</td>\n",
       "      <td>0.000000e+00</td>\n",
       "      <td>0.000000e+00</td>\n",
       "      <td>1.000000e+00</td>\n",
       "      <td>60.0</td>\n",
       "    </tr>\n",
       "    <tr>\n",
       "      <th>killStreaks</th>\n",
       "      <td>4357336.0</td>\n",
       "      <td>5.547651e-01</td>\n",
       "      <td>7.223452e-01</td>\n",
       "      <td>0.0</td>\n",
       "      <td>0.000000e+00</td>\n",
       "      <td>0.000000e+00</td>\n",
       "      <td>1.000000e+00</td>\n",
       "      <td>14.0</td>\n",
       "    </tr>\n",
       "    <tr>\n",
       "      <th>longestKill</th>\n",
       "      <td>4357336.0</td>\n",
       "      <td>1.987925e+01</td>\n",
       "      <td>4.586552e+01</td>\n",
       "      <td>0.0</td>\n",
       "      <td>0.000000e+00</td>\n",
       "      <td>0.000000e+00</td>\n",
       "      <td>1.629000e+01</td>\n",
       "      <td>1323.0</td>\n",
       "    </tr>\n",
       "    <tr>\n",
       "      <th>maxPlace</th>\n",
       "      <td>4357336.0</td>\n",
       "      <td>4.207759e+01</td>\n",
       "      <td>2.267769e+01</td>\n",
       "      <td>0.0</td>\n",
       "      <td>2.800000e+01</td>\n",
       "      <td>3.000000e+01</td>\n",
       "      <td>4.900000e+01</td>\n",
       "      <td>100.0</td>\n",
       "    </tr>\n",
       "    <tr>\n",
       "      <th>numGroups</th>\n",
       "      <td>4357336.0</td>\n",
       "      <td>4.058035e+01</td>\n",
       "      <td>2.206667e+01</td>\n",
       "      <td>1.0</td>\n",
       "      <td>2.600000e+01</td>\n",
       "      <td>2.900000e+01</td>\n",
       "      <td>4.700000e+01</td>\n",
       "      <td>100.0</td>\n",
       "    </tr>\n",
       "    <tr>\n",
       "      <th>revives</th>\n",
       "      <td>4357336.0</td>\n",
       "      <td>1.649345e-01</td>\n",
       "      <td>4.672004e-01</td>\n",
       "      <td>0.0</td>\n",
       "      <td>0.000000e+00</td>\n",
       "      <td>0.000000e+00</td>\n",
       "      <td>0.000000e+00</td>\n",
       "      <td>41.0</td>\n",
       "    </tr>\n",
       "    <tr>\n",
       "      <th>rideDistance</th>\n",
       "      <td>4357336.0</td>\n",
       "      <td>4.238835e+02</td>\n",
       "      <td>1.222927e+03</td>\n",
       "      <td>0.0</td>\n",
       "      <td>0.000000e+00</td>\n",
       "      <td>0.000000e+00</td>\n",
       "      <td>0.000000e+00</td>\n",
       "      <td>48390.0</td>\n",
       "    </tr>\n",
       "    <tr>\n",
       "      <th>roadKills</th>\n",
       "      <td>4357336.0</td>\n",
       "      <td>2.557985e-03</td>\n",
       "      <td>6.346679e-02</td>\n",
       "      <td>0.0</td>\n",
       "      <td>0.000000e+00</td>\n",
       "      <td>0.000000e+00</td>\n",
       "      <td>0.000000e+00</td>\n",
       "      <td>42.0</td>\n",
       "    </tr>\n",
       "    <tr>\n",
       "      <th>swimDistance</th>\n",
       "      <td>4357336.0</td>\n",
       "      <td>4.136261e+00</td>\n",
       "      <td>2.757015e+01</td>\n",
       "      <td>0.0</td>\n",
       "      <td>0.000000e+00</td>\n",
       "      <td>0.000000e+00</td>\n",
       "      <td>0.000000e+00</td>\n",
       "      <td>5286.0</td>\n",
       "    </tr>\n",
       "    <tr>\n",
       "      <th>teamKills</th>\n",
       "      <td>4357336.0</td>\n",
       "      <td>1.388555e-02</td>\n",
       "      <td>1.329266e-01</td>\n",
       "      <td>0.0</td>\n",
       "      <td>0.000000e+00</td>\n",
       "      <td>0.000000e+00</td>\n",
       "      <td>0.000000e+00</td>\n",
       "      <td>6.0</td>\n",
       "    </tr>\n",
       "    <tr>\n",
       "      <th>vehicleDestroys</th>\n",
       "      <td>4357336.0</td>\n",
       "      <td>5.146264e-03</td>\n",
       "      <td>7.425362e-02</td>\n",
       "      <td>0.0</td>\n",
       "      <td>0.000000e+00</td>\n",
       "      <td>0.000000e+00</td>\n",
       "      <td>0.000000e+00</td>\n",
       "      <td>5.0</td>\n",
       "    </tr>\n",
       "    <tr>\n",
       "      <th>walkDistance</th>\n",
       "      <td>4357336.0</td>\n",
       "      <td>1.055122e+03</td>\n",
       "      <td>1.116122e+03</td>\n",
       "      <td>0.0</td>\n",
       "      <td>1.334000e+02</td>\n",
       "      <td>5.732000e+02</td>\n",
       "      <td>1.808000e+03</td>\n",
       "      <td>17300.0</td>\n",
       "    </tr>\n",
       "    <tr>\n",
       "      <th>weaponsAcquired</th>\n",
       "      <td>4357336.0</td>\n",
       "      <td>3.457289e+00</td>\n",
       "      <td>2.402109e+00</td>\n",
       "      <td>0.0</td>\n",
       "      <td>2.000000e+00</td>\n",
       "      <td>3.000000e+00</td>\n",
       "      <td>5.000000e+00</td>\n",
       "      <td>76.0</td>\n",
       "    </tr>\n",
       "    <tr>\n",
       "      <th>winPoints</th>\n",
       "      <td>4357336.0</td>\n",
       "      <td>1.500504e+03</td>\n",
       "      <td>4.253571e+01</td>\n",
       "      <td>350.0</td>\n",
       "      <td>1.491000e+03</td>\n",
       "      <td>1.500000e+03</td>\n",
       "      <td>1.510000e+03</td>\n",
       "      <td>1923.0</td>\n",
       "    </tr>\n",
       "    <tr>\n",
       "      <th>winPlacePerc</th>\n",
       "      <td>4357336.0</td>\n",
       "      <td>4.718663e-01</td>\n",
       "      <td>3.079147e-01</td>\n",
       "      <td>0.0</td>\n",
       "      <td>1.979000e-01</td>\n",
       "      <td>4.583000e-01</td>\n",
       "      <td>7.407000e-01</td>\n",
       "      <td>1.0</td>\n",
       "    </tr>\n",
       "  </tbody>\n",
       "</table>\n",
       "</div>"
      ],
      "text/plain": [
       "                     count          mean           std    min           25%  \\\n",
       "Id               4357336.0  3.102678e+06  1.797477e+06    0.0  1.537746e+06   \n",
       "groupId          4357336.0  1.024777e+06  6.967197e+05    1.0  4.741378e+05   \n",
       "matchId          4357336.0  2.385539e+04  1.378227e+04    0.0  1.191400e+04   \n",
       "assists          4357336.0  2.656320e-01  6.342160e-01    0.0  0.000000e+00   \n",
       "boosts           4357336.0  9.636856e-01  1.560643e+00    0.0  0.000000e+00   \n",
       "damageDealt      4357336.0  1.329033e+02  1.699439e+02    0.0  0.000000e+00   \n",
       "DBNOs            4357336.0  6.901455e-01  1.191514e+00    0.0  0.000000e+00   \n",
       "headshotKills    4357336.0  2.385866e-01  6.103033e-01    0.0  0.000000e+00   \n",
       "heals            4357336.0  1.187169e+00  2.366389e+00    0.0  0.000000e+00   \n",
       "killPlace        4357336.0  4.703440e+01  2.732772e+01    1.0  2.300000e+01   \n",
       "killPoints       4357336.0  1.080898e+03  1.237119e+02  155.0  1.000000e+03   \n",
       "kills            4357336.0  9.344958e-01  1.566192e+00    0.0  0.000000e+00   \n",
       "killStreaks      4357336.0  5.547651e-01  7.223452e-01    0.0  0.000000e+00   \n",
       "longestKill      4357336.0  1.987925e+01  4.586552e+01    0.0  0.000000e+00   \n",
       "maxPlace         4357336.0  4.207759e+01  2.267769e+01    0.0  2.800000e+01   \n",
       "numGroups        4357336.0  4.058035e+01  2.206667e+01    1.0  2.600000e+01   \n",
       "revives          4357336.0  1.649345e-01  4.672004e-01    0.0  0.000000e+00   \n",
       "rideDistance     4357336.0  4.238835e+02  1.222927e+03    0.0  0.000000e+00   \n",
       "roadKills        4357336.0  2.557985e-03  6.346679e-02    0.0  0.000000e+00   \n",
       "swimDistance     4357336.0  4.136261e+00  2.757015e+01    0.0  0.000000e+00   \n",
       "teamKills        4357336.0  1.388555e-02  1.329266e-01    0.0  0.000000e+00   \n",
       "vehicleDestroys  4357336.0  5.146264e-03  7.425362e-02    0.0  0.000000e+00   \n",
       "walkDistance     4357336.0  1.055122e+03  1.116122e+03    0.0  1.334000e+02   \n",
       "weaponsAcquired  4357336.0  3.457289e+00  2.402109e+00    0.0  2.000000e+00   \n",
       "winPoints        4357336.0  1.500504e+03  4.253571e+01  350.0  1.491000e+03   \n",
       "winPlacePerc     4357336.0  4.718663e-01  3.079147e-01    0.0  1.979000e-01   \n",
       "\n",
       "                          50%           75%        max  \n",
       "Id               3.110606e+06  4.657295e+06  6224522.0  \n",
       "groupId          9.430320e+05  1.418544e+06  2700605.0  \n",
       "matchId          2.383700e+04  3.580100e+04    47733.0  \n",
       "assists          0.000000e+00  0.000000e+00       20.0  \n",
       "boosts           0.000000e+00  1.000000e+00       18.0  \n",
       "damageDealt      8.776000e+01  1.884000e+02     6384.0  \n",
       "DBNOs            0.000000e+00  1.000000e+00       63.0  \n",
       "headshotKills    0.000000e+00  0.000000e+00       26.0  \n",
       "heals            0.000000e+00  1.000000e+00       59.0  \n",
       "killPlace        4.700000e+01  7.000000e+01      100.0  \n",
       "killPoints       1.029000e+03  1.126000e+03     2047.0  \n",
       "kills            0.000000e+00  1.000000e+00       60.0  \n",
       "killStreaks      0.000000e+00  1.000000e+00       14.0  \n",
       "longestKill      0.000000e+00  1.629000e+01     1323.0  \n",
       "maxPlace         3.000000e+01  4.900000e+01      100.0  \n",
       "numGroups        2.900000e+01  4.700000e+01      100.0  \n",
       "revives          0.000000e+00  0.000000e+00       41.0  \n",
       "rideDistance     0.000000e+00  0.000000e+00    48390.0  \n",
       "roadKills        0.000000e+00  0.000000e+00       42.0  \n",
       "swimDistance     0.000000e+00  0.000000e+00     5286.0  \n",
       "teamKills        0.000000e+00  0.000000e+00        6.0  \n",
       "vehicleDestroys  0.000000e+00  0.000000e+00        5.0  \n",
       "walkDistance     5.732000e+02  1.808000e+03    17300.0  \n",
       "weaponsAcquired  3.000000e+00  5.000000e+00       76.0  \n",
       "winPoints        1.500000e+03  1.510000e+03     1923.0  \n",
       "winPlacePerc     4.583000e-01  7.407000e-01        1.0  "
      ]
     },
     "execution_count": 5,
     "metadata": {},
     "output_type": "execute_result"
    }
   ],
   "source": [
    "df.describe().T"
   ]
  },
  {
   "cell_type": "code",
   "execution_count": 5,
   "metadata": {},
   "outputs": [
    {
     "name": "stderr",
     "output_type": "stream",
     "text": [
      "/Users/bchnge/anaconda3/lib/python3.6/site-packages/matplotlib/axes/_axes.py:6571: UserWarning: The 'normed' kwarg is deprecated, and has been replaced by the 'density' kwarg.\n",
      "  warnings.warn(\"The 'normed' kwarg is deprecated, and has been \"\n"
     ]
    },
    {
     "data": {
      "text/plain": [
       "<matplotlib.axes._subplots.AxesSubplot at 0x103467e48>"
      ]
     },
     "execution_count": 5,
     "metadata": {},
     "output_type": "execute_result"
    },
    {
     "data": {
      "image/png": "[encoded data removed]",
      "text/plain": [
       "<Figure size 432x288 with 1 Axes>"
      ]
     },
     "metadata": {},
     "output_type": "display_data"
    }
   ],
   "source": [
    "seaborn.distplot(df.winPlacePerc)"
   ]
  },
  {
   "cell_type": "code",
   "execution_count": 11,
   "metadata": {},
   "outputs": [
    {
     "data": {
      "text/plain": [
       "<seaborn.axisgrid.PairGrid at 0x1a257e4668>"
      ]
     },
     "execution_count": 11,
     "metadata": {},
     "output_type": "execute_result"
    },
    {
     "data": {
      "image/png": "[encoded data removed]",
      "text/plain": [
       "<Figure size 360x180 with 2 Axes>"
      ]
     },
     "metadata": {},
     "output_type": "display_data"
    }
   ],
   "source": [
    "seaborn.pairplot(df, x_vars= ['walkDistance', 'winPoints'], y_vars='winPlacePerc')"
   ]
  },
  {
   "cell_type": "code",
   "execution_count": 95,
   "metadata": {},
   "outputs": [],
   "source": [
    "def logit(x, eps = 0.0001):\n",
    "    if x == 1:\n",
    "        x -= eps\n",
    "    elif x == 0:\n",
    "        x += eps\n",
    "    return(np.log(x / (1-x)))\n",
    "\n",
    "def inv_logit(y, eps = 0.0001):\n",
    "    back_transform = np.exp(y) / (1 + np.exp(y))\n",
    "    if back_transform == eps:\n",
    "        back_transform -= eps\n",
    "    elif back_transform == 1- eps:\n",
    "        back_transform += eps\n",
    "    return(back_transform)\n"
   ]
  },
  {
   "cell_type": "code",
   "execution_count": 63,
   "metadata": {},
   "outputs": [
    {
     "data": {
      "text/plain": [
       "0.84729786038720345"
      ]
     },
     "execution_count": 63,
     "metadata": {},
     "output_type": "execute_result"
    }
   ],
   "source": [
    "logit(0.7)"
   ]
  },
  {
   "cell_type": "code",
   "execution_count": 65,
   "metadata": {},
   "outputs": [
    {
     "data": {
      "text/plain": [
       "9.9999999999999991e-05"
      ]
     },
     "execution_count": 65,
     "metadata": {},
     "output_type": "execute_result"
    }
   ],
   "source": [
    "inv_logit(logit(0))"
   ]
  },
  {
   "cell_type": "code",
   "execution_count": 68,
   "metadata": {},
   "outputs": [],
   "source": [
    "df['ln_winPlacePerc'] = df.winPlacePerc.transform(lambda x: logit(x))"
   ]
  },
  {
   "cell_type": "code",
   "execution_count": 69,
   "metadata": {},
   "outputs": [
    {
     "name": "stderr",
     "output_type": "stream",
     "text": [
      "/Users/bchnge/anaconda3/lib/python3.6/site-packages/matplotlib/axes/_axes.py:6571: UserWarning: The 'normed' kwarg is deprecated, and has been replaced by the 'density' kwarg.\n",
      "  warnings.warn(\"The 'normed' kwarg is deprecated, and has been \"\n"
     ]
    },
    {
     "data": {
      "text/plain": [
       "<matplotlib.axes._subplots.AxesSubplot at 0x1a2602ae48>"
      ]
     },
     "execution_count": 69,
     "metadata": {},
     "output_type": "execute_result"
    },
    {
     "data": {
      "image/png": "[encoded data removed]",
      "text/plain": [
       "<Figure size 432x288 with 1 Axes>"
      ]
     },
     "metadata": {},
     "output_type": "display_data"
    }
   ],
   "source": [
    "seaborn.distplot(df.ln_winPlacePerc)"
   ]
  },
  {
   "cell_type": "code",
   "execution_count": 70,
   "metadata": {},
   "outputs": [],
   "source": [
    "from sklearn.linear_model import LinearRegression"
   ]
  },
  {
   "cell_type": "code",
   "execution_count": 71,
   "metadata": {},
   "outputs": [],
   "source": [
    "ols = LinearRegression()"
   ]
  },
  {
   "cell_type": "code",
   "execution_count": 72,
   "metadata": {},
   "outputs": [],
   "source": [
    "from sklearn.model_selection import cross_val_score"
   ]
  },
  {
   "cell_type": "code",
   "execution_count": 74,
   "metadata": {},
   "outputs": [],
   "source": [
    "from sklearn.metrics import mean_squared_error"
   ]
  },
  {
   "cell_type": "code",
   "execution_count": 73,
   "metadata": {},
   "outputs": [],
   "source": [
    "from sklearn.metrics import make_scorer"
   ]
  },
  {
   "cell_type": "code",
   "execution_count": 114,
   "metadata": {},
   "outputs": [
    {
     "data": {
      "text/plain": [
       "array([1, 2, 3])"
      ]
     },
     "execution_count": 114,
     "metadata": {},
     "output_type": "execute_result"
    }
   ],
   "source": [
    "np.array([1,2,3]).reshape(-1,1).reshape(-1)"
   ]
  },
  {
   "cell_type": "code",
   "execution_count": 115,
   "metadata": {},
   "outputs": [],
   "source": [
    "def logit_mse(y, y_pred):\n",
    "    y_fitted = np.apply_along_axis(inv_logit, 1, y_pred.reshape(-1,1)).reshape(-1)\n",
    "    return(mean_squared_error(y, y_fitted))\n",
    "    \n",
    "logit_mse_scorer = make_scorer(logit_mse, greater_is_better = False)"
   ]
  },
  {
   "cell_type": "code",
   "execution_count": 116,
   "metadata": {},
   "outputs": [],
   "source": [
    "cv = cross_val_score(ols, \n",
    "                X = df.drop(['winPlacePerc', 'ln_winPlacePerc'], axis = 1),\n",
    "                y = df.ln_winPlacePerc, scoring = logit_mse_scorer)"
   ]
  },
  {
   "cell_type": "code",
   "execution_count": 117,
   "metadata": {},
   "outputs": [
    {
     "data": {
      "text/plain": [
       "array([-8.49336575, -8.46608141, -8.42014367])"
      ]
     },
     "execution_count": 117,
     "metadata": {},
     "output_type": "execute_result"
    }
   ],
   "source": [
    "cv"
   ]
  },
  {
   "cell_type": "code",
   "execution_count": 100,
   "metadata": {},
   "outputs": [
    {
     "data": {
      "text/plain": [
       "LinearRegression(copy_X=True, fit_intercept=True, n_jobs=1, normalize=False)"
      ]
     },
     "execution_count": 100,
     "metadata": {},
     "output_type": "execute_result"
    }
   ],
   "source": [
    "ols.fit(df.drop(['winPlacePerc', 'ln_winPlacePerc'], axis = 1), df.ln_winPlacePerccePerc)"
   ]
  },
  {
   "cell_type": "code",
   "execution_count": 103,
   "metadata": {},
   "outputs": [],
   "source": [
    "yhat = ols.predict(df.drop(['winPlacePerc', 'ln_winPlacePerc'], axis = 1))"
   ]
  },
  {
   "cell_type": "code",
   "execution_count": 107,
   "metadata": {},
   "outputs": [
    {
     "data": {
      "text/plain": [
       "array([[ 0.77510209],\n",
       "       [ 0.14912654],\n",
       "       [ 0.8867955 ],\n",
       "       ..., \n",
       "       [ 0.44873953],\n",
       "       [ 0.01944806],\n",
       "       [ 0.83421695]])"
      ]
     },
     "execution_count": 107,
     "metadata": {},
     "output_type": "execute_result"
    }
   ],
   "source": [
    "np.apply_along_axis(inv_logit, 1, yhat.reshape(-1,1))"
   ]
  },
  {
   "cell_type": "code",
   "execution_count": null,
   "metadata": {},
   "outputs": [],
   "source": []
  }
 ],
 "metadata": {
  "kernelspec": {
   "display_name": "Python 3",
   "language": "python",
   "name": "python3"
  },
  "language_info": {
   "codemirror_mode": {
    "name": "ipython",
    "version": 3
   },
   "file_extension": ".py",
   "mimetype": "text/x-python",
   "name": "python",
   "nbconvert_exporter": "python",
   "pygments_lexer": "ipython3",
   "version": "3.6.3"
  }
 },
 "nbformat": 4,
 "nbformat_minor": 2
}
